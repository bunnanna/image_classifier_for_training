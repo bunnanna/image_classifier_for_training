{
 "cells": [
  {
   "cell_type": "code",
   "execution_count": null,
   "metadata": {},
   "outputs": [],
   "source": [
    "import tensorflow as tf\n",
    "import numpy as np\n",
    "import matplotlib.pyplot as plt\n",
    "import cv2 as cv\n",
    "from matplotlib import units\n",
    "from tensorflow.keras.optimizers import Adam"
   ]
  },
  {
   "cell_type": "code",
   "execution_count": 92,
   "metadata": {},
   "outputs": [],
   "source": [
    "\n",
    "opt=Adam(learning_rate=0.001)\n",
    "ds = tf.keras.datasets.mnist\n",
    "(dxtrain,dytrain),(dxtest,dytest)=ds.load_data()\n",
    "dxtrain=tf.keras.utils.normalize(dxtrain,axis=1)\n",
    "dxtest=tf.keras.utils.normalize(dxtest,axis=1)"
   ]
  },
  {
   "cell_type": "code",
   "execution_count": null,
   "metadata": {},
   "outputs": [],
   "source": [
    "plt.imshow(dxtrain[2],cmap=plt.cm.binary)\n",
    "plt.show()"
   ]
  },
  {
   "cell_type": "code",
   "execution_count": null,
   "metadata": {},
   "outputs": [],
   "source": [
    "\n",
    "model=tf.keras.models.Sequential()\n",
    "model.add(tf.keras.layers.Flatten(input_shape=(28,28)))\n",
    "model.add(tf.keras.layers.Dense(units=128,activation=\"relu\"))\n",
    "model.add(tf.keras.layers.Dense(units=128,activation=\"relu\"))\n",
    "model.add(tf.keras.layers.Dense(units=10,activation=\"softmax\"))\n",
    "\n",
    "model.compile(optimizer=\"Adam\",loss=\"sparse_categorical_crossentropy\",metrics=[\"accuracy\"])\n",
    "\n",
    "model.fit(dxtrain,dytrain,epochs=3)\n",
    "\n",
    "model.save(\"mnist1.model\")"
   ]
  },
  {
   "cell_type": "code",
   "execution_count": 87,
   "metadata": {},
   "outputs": [
    {
     "name": "stdout",
     "output_type": "stream",
     "text": [
      "1/1 [==============================] - 0s 43ms/step\n",
      "May be  4\n"
     ]
    },
    {
     "data": {
      "image/png": "[encoded data removed]",
      "text/plain": [
       "<Figure size 640x480 with 1 Axes>"
      ]
     },
     "metadata": {},
     "output_type": "display_data"
    }
   ],
   "source": [
    "\n",
    "pic=cv.imread(\"picture.png\")[:,:,0]\n",
    "pic=np.invert(np.array([pic]))\n",
    "pic1=tf.keras.utils.normalize(pic,axis=1)\n",
    "resultt=model.predict(pic1)\n",
    "print(\"May be \",np.argmax(resultt))\n",
    "plt.imshow(pic[0],cmap=plt.cm.binary)\n",
    "plt.show()"
   ]
  },
  {
   "cell_type": "code",
   "execution_count": 95,
   "metadata": {},
   "outputs": [
    {
     "data": {
      "text/plain": [
       "(10000,)"
      ]
     },
     "execution_count": 95,
     "metadata": {},
     "output_type": "execute_result"
    }
   ],
   "source": [
    "dytest.shape"
   ]
  }
 ],
 "metadata": {
  "kernelspec": {
   "display_name": "Python 3.9.7 ('.venv': venv)",
   "language": "python",
   "name": "python3"
  },
  "language_info": {
   "codemirror_mode": {
    "name": "ipython",
    "version": 3
   },
   "file_extension": ".py",
   "mimetype": "text/x-python",
   "name": "python",
   "nbconvert_exporter": "python",
   "pygments_lexer": "ipython3",
   "version": "3.9.7"
  },
  "orig_nbformat": 4,
  "vscode": {
   "interpreter": {
    "hash": "24148c9018077f48779bc8994ff1d8a342f466807a6e7e860df830e8cb90d7a3"
   }
  }
 },
 "nbformat": 4,
 "nbformat_minor": 2
}

{
 "cells": [
  {
   "cell_type": "code",
   "execution_count": 6,
   "metadata": {},
   "outputs": [],
   "source": [
    "import tensorflow as tf\n",
    "import numpy as np\n",
    "import matplotlib.pyplot as plt\n",
    "import cv2 as cv\n",
    "from matplotlib import units\n",
    "from tensorflow.keras.optimizers import Adam\n",
    "import pickle\n",
    "from random import random"
   ]
  },
  {
   "cell_type": "code",
   "execution_count": 2,
   "metadata": {},
   "outputs": [],
   "source": [
    "opt=Adam(learning_rate=0.01)\n",
    "ds = tf.keras.datasets.fashion_mnist\n",
    "(dxtrain,dytrain),(dxtest,dytest)=ds.load_data()\n",
    "dxtrain=tf.keras.utils.normalize(dxtrain,axis=1)\n",
    "dxtest=tf.keras.utils.normalize(dxtest,axis=1)\n",
    "labeldes={0:\"T-shirt/top\",1:\"Trouser\",2:\"Pullover\",3:\"Dress\",4:\"Coat\",5:\"Sandal\",6:\"Shirt\",7:\"Sneaker\",8:\"Bag\",9:\"Ankle boot\"}"
   ]
  },
  {
   "cell_type": "code",
   "execution_count": 3,
   "metadata": {},
   "outputs": [
    {
     "name": "stdout",
     "output_type": "stream",
     "text": [
      "Epoch 1/10\n",
      "1875/1875 [==============================] - 5s 2ms/step - loss: 0.5774 - accuracy: 0.7882 - val_loss: 0.4509 - val_accuracy: 0.8349\n",
      "Epoch 2/10\n",
      "1875/1875 [==============================] - 3s 2ms/step - loss: 0.3908 - accuracy: 0.8584 - val_loss: 0.3780 - val_accuracy: 0.8625\n",
      "Epoch 3/10\n",
      "1875/1875 [==============================] - 4s 2ms/step - loss: 0.3458 - accuracy: 0.8741 - val_loss: 0.3751 - val_accuracy: 0.8618\n",
      "Epoch 4/10\n",
      "1875/1875 [==============================] - 3s 2ms/step - loss: 0.3195 - accuracy: 0.8830 - val_loss: 0.3567 - val_accuracy: 0.8677\n",
      "Epoch 5/10\n",
      "1875/1875 [==============================] - 4s 2ms/step - loss: 0.3024 - accuracy: 0.8877 - val_loss: 0.3529 - val_accuracy: 0.8676\n",
      "Epoch 6/10\n",
      "1875/1875 [==============================] - 3s 2ms/step - loss: 0.2858 - accuracy: 0.8949 - val_loss: 0.3318 - val_accuracy: 0.8774\n",
      "Epoch 7/10\n",
      "1875/1875 [==============================] - 3s 2ms/step - loss: 0.2713 - accuracy: 0.8997 - val_loss: 0.3410 - val_accuracy: 0.8766\n",
      "Epoch 8/10\n",
      "1875/1875 [==============================] - 3s 2ms/step - loss: 0.2595 - accuracy: 0.9021 - val_loss: 0.3390 - val_accuracy: 0.8785\n",
      "Epoch 9/10\n",
      "1875/1875 [==============================] - 4s 2ms/step - loss: 0.2476 - accuracy: 0.9074 - val_loss: 0.3219 - val_accuracy: 0.8832\n",
      "Epoch 10/10\n",
      "1875/1875 [==============================] - 4s 2ms/step - loss: 0.2381 - accuracy: 0.9112 - val_loss: 0.3374 - val_accuracy: 0.8756\n",
      "INFO:tensorflow:Assets written to: fmnist.model\\assets\n"
     ]
    }
   ],
   "source": [
    "model2=tf.keras.models.Sequential()\n",
    "model2.add(tf.keras.layers.Flatten(input_shape=(28,28)))\n",
    "model2.add(tf.keras.layers.Dense(units=128,activation=\"relu\"))\n",
    "model2.add(tf.keras.layers.Dense(units=128,activation=\"relu\"))\n",
    "model2.add(tf.keras.layers.Dense(units=64,activation=\"sigmoid\"))\n",
    "model2.add(tf.keras.layers.Dropout(0.1))\n",
    "model2.add(tf.keras.layers.Dense(units=128,activation=\"relu\"))\n",
    "model2.add(tf.keras.layers.Dropout(0.1))\n",
    "model2.add(tf.keras.layers.Dense(units=10,activation=\"softmax\"))\n",
    "\n",
    "model2.compile(optimizer=\"Adam\",loss=\"sparse_categorical_crossentropy\",metrics=[\"accuracy\"])\n",
    "model2.fit(dxtrain,dytrain,epochs=10,validation_data=(dxtest,dytest))\n",
    "\n",
    "model2.save(\"fmnist.model\")"
   ]
  },
  {
   "cell_type": "code",
   "execution_count": 8,
   "metadata": {},
   "outputs": [
    {
     "name": "stdout",
     "output_type": "stream",
     "text": [
      "INFO:tensorflow:Assets written to: ram://c3029a9c-c66c-4e6c-9127-1a5f432c8b90/assets\n"
     ]
    }
   ],
   "source": [
    "import pickle\n",
    "pickle.dump(model2,open(\"./fmnist-classifier.pkl\",\"wb\"))"
   ]
  },
  {
   "cell_type": "code",
   "execution_count": 4,
   "metadata": {},
   "outputs": [],
   "source": [
    "labeldes={0:\"T-shirt/top\",1:\"Trouser\",2:\"Pullover\",3:\"Dress\",4:\"Coat\",5:\"Sandal\",6:\"Shirt\",7:\"Sneaker\",8:\"Bag\",9:\"Ankle boot\"}"
   ]
  },
  {
   "cell_type": "code",
   "execution_count": 7,
   "metadata": {},
   "outputs": [
    {
     "name": "stdout",
     "output_type": "stream",
     "text": [
      "1/1 [==============================] - 0s 103ms/step\n",
      "index number 5335\n",
      "real Bag\n",
      "pre Bag\n"
     ]
    },
    {
     "data": {
      "image/png": "[encoded data removed]",
      "text/plain": [
       "<Figure size 640x480 with 1 Axes>"
      ]
     },
     "metadata": {},
     "output_type": "display_data"
    }
   ],
   "source": [
    "i=int(random()*10000)\n",
    "result=model2.predict(np.array([dxtest[i]]))\n",
    "print(\"index number\",i)\n",
    "print(\"real\",labeldes[dytest[i]])\n",
    "print(\"pre\",labeldes[np.argmax(result)])\n",
    "plt.imshow(dxtest[i],cmap=plt.cm.binary)\n",
    "plt.show()"
   ]
  }
 ],
 "metadata": {
  "kernelspec": {
   "display_name": "Python 3.9.13 ('base')",
   "language": "python",
   "name": "python3"
  },
  "language_info": {
   "codemirror_mode": {
    "name": "ipython",
    "version": 3
   },
   "file_extension": ".py",
   "mimetype": "text/x-python",
   "name": "python",
   "nbconvert_exporter": "python",
   "pygments_lexer": "ipython3",
   "version": "3.9.13"
  },
  "orig_nbformat": 4,
  "vscode": {
   "interpreter": {
    "hash": "d9e29b0f8e93f81e335db237c3566b80f8e3fcffeb67744d2436471d32d77d5a"
   }
  }
 },
 "nbformat": 4,
 "nbformat_minor": 2
}

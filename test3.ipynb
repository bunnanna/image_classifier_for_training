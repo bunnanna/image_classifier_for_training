{
 "cells": [
  {
   "cell_type": "code",
   "execution_count": 1,
   "metadata": {},
   "outputs": [],
   "source": [
    "import tensorflow as tf\n",
    "import numpy as np\n",
    "import matplotlib.pyplot as plt\n",
    "import cv2 as cv\n",
    "from matplotlib import units\n",
    "from tensorflow.keras.optimizers import Adam\n",
    "from random import random"
   ]
  },
  {
   "cell_type": "code",
   "execution_count": 2,
   "metadata": {},
   "outputs": [],
   "source": [
    "opt=Adam(learning_rate=0.01)\n",
    "ds = tf.keras.datasets.fashion_mnist\n",
    "(dxtrain,dytrain),(dxtest,dytest)=ds.load_data()\n",
    "dxtrain=tf.keras.utils.normalize(dxtrain,axis=1)\n",
    "dxtest=tf.keras.utils.normalize(dxtest,axis=1)\n",
    "labeldes={0:\"T-shirt/top\",1:\"Trouser\",2:\"Pullover\",3:\"Dress\",4:\"Coat\",5:\"Sandal\",6:\"Shirt\",7:\"Sneaker\",8:\"Bag\",9:\"Ankle boot\"}"
   ]
  },
  {
   "cell_type": "code",
   "execution_count": 3,
   "metadata": {},
   "outputs": [
    {
     "name": "stdout",
     "output_type": "stream",
     "text": [
      "Epoch 1/10\n",
      "1875/1875 [==============================] - 3s 1ms/step - loss: 0.5855 - accuracy: 0.7853 - val_loss: 0.4633 - val_accuracy: 0.8347\n",
      "Epoch 2/10\n",
      "1875/1875 [==============================] - 3s 1ms/step - loss: 0.3980 - accuracy: 0.8558 - val_loss: 0.3892 - val_accuracy: 0.8607\n",
      "Epoch 3/10\n",
      "1875/1875 [==============================] - 2s 1ms/step - loss: 0.3556 - accuracy: 0.8709 - val_loss: 0.3717 - val_accuracy: 0.8675\n",
      "Epoch 4/10\n",
      "1875/1875 [==============================] - 2s 1ms/step - loss: 0.3299 - accuracy: 0.8796 - val_loss: 0.3677 - val_accuracy: 0.8648\n",
      "Epoch 5/10\n",
      "1875/1875 [==============================] - 2s 1ms/step - loss: 0.3086 - accuracy: 0.8856 - val_loss: 0.3563 - val_accuracy: 0.8711\n",
      "Epoch 6/10\n",
      "1875/1875 [==============================] - 2s 1ms/step - loss: 0.2918 - accuracy: 0.8928 - val_loss: 0.3476 - val_accuracy: 0.8728\n",
      "Epoch 7/10\n",
      "1875/1875 [==============================] - 2s 1ms/step - loss: 0.2771 - accuracy: 0.8970 - val_loss: 0.3294 - val_accuracy: 0.8791\n",
      "Epoch 8/10\n",
      "1875/1875 [==============================] - 2s 1ms/step - loss: 0.2658 - accuracy: 0.9020 - val_loss: 0.3316 - val_accuracy: 0.8844\n",
      "Epoch 9/10\n",
      "1875/1875 [==============================] - 2s 1ms/step - loss: 0.2558 - accuracy: 0.9032 - val_loss: 0.3360 - val_accuracy: 0.8768\n",
      "Epoch 10/10\n",
      "1875/1875 [==============================] - 2s 1ms/step - loss: 0.2449 - accuracy: 0.9087 - val_loss: 0.3696 - val_accuracy: 0.8715\n"
     ]
    },
    {
     "data": {
      "text/plain": [
       "<keras.callbacks.History at 0x2d5df730f40>"
      ]
     },
     "execution_count": 3,
     "metadata": {},
     "output_type": "execute_result"
    }
   ],
   "source": [
    "model=tf.keras.models.Sequential()\n",
    "model.add(tf.keras.layers.Flatten(input_shape=(28,28)))\n",
    "model.add(tf.keras.layers.Dense(units=128,activation=\"relu\"))\n",
    "model.add(tf.keras.layers.Dense(units=128,activation=\"relu\"))\n",
    "model.add(tf.keras.layers.Dense(units=64,activation=\"sigmoid\"))\n",
    "model.add(tf.keras.layers.Dropout(0.1))\n",
    "model.add(tf.keras.layers.Dense(units=128,activation=\"relu\"))\n",
    "model.add(tf.keras.layers.Dropout(0.1))\n",
    "model.add(tf.keras.layers.Dense(units=10,activation=\"softmax\"))\n",
    "\n",
    "model.compile(optimizer=\"Adam\",loss=\"sparse_categorical_crossentropy\",metrics=[\"accuracy\"])\n",
    "model.fit(dxtrain,dytrain,epochs=10,validation_data=(dxtest,dytest))"
   ]
  },
  {
   "cell_type": "code",
   "execution_count": 4,
   "metadata": {},
   "outputs": [
    {
     "name": "stdout",
     "output_type": "stream",
     "text": [
      "INFO:tensorflow:Assets written to: ../vs/data/model/fmnist.model\\assets\n"
     ]
    }
   ],
   "source": [
    "model.save(\"../vs/data/model/fmnist.model\")"
   ]
  },
  {
   "cell_type": "code",
   "execution_count": 5,
   "metadata": {},
   "outputs": [],
   "source": [
    "model = tf.keras.models.load_model(\"../vs/data/model/fmnist.model\")"
   ]
  },
  {
   "cell_type": "code",
   "execution_count": 6,
   "metadata": {},
   "outputs": [],
   "source": [
    "labeldes={0:\"T-shirt/top\",1:\"Trouser\",2:\"Pullover\",3:\"Dress\",4:\"Coat\",5:\"Sandal\",6:\"Shirt\",7:\"Sneaker\",8:\"Bag\",9:\"Ankle boot\"}"
   ]
  },
  {
   "cell_type": "code",
   "execution_count": 7,
   "metadata": {},
   "outputs": [
    {
     "name": "stdout",
     "output_type": "stream",
     "text": [
      "index number 173\n",
      "real Trouser\n",
      "pre Trouser\n"
     ]
    },
    {
     "data": {
      "image/png": "[encoded data removed]",
      "text/plain": [
       "<Figure size 640x480 with 1 Axes>"
      ]
     },
     "metadata": {},
     "output_type": "display_data"
    }
   ],
   "source": [
    "i=int(random()*10000)\n",
    "result=model.predict(np.array([dxtest[i]]))\n",
    "print(\"index number\",i)\n",
    "print(\"real\",labeldes[dytest[i]])\n",
    "print(\"pre\",labeldes[np.argmax(result)])\n",
    "plt.imshow(dxtest[i],cmap=plt.cm.binary)\n",
    "plt.show()"
   ]
  }
 ],
 "metadata": {
  "kernelspec": {
   "display_name": "Python 3.9.13 ('base')",
   "language": "python",
   "name": "python3"
  },
  "language_info": {
   "codemirror_mode": {
    "name": "ipython",
    "version": 3
   },
   "file_extension": ".py",
   "mimetype": "text/x-python",
   "name": "python",
   "nbconvert_exporter": "python",
   "pygments_lexer": "ipython3",
   "version": "3.9.13"
  },
  "orig_nbformat": 4,
  "vscode": {
   "interpreter": {
    "hash": "d9e29b0f8e93f81e335db237c3566b80f8e3fcffeb67744d2436471d32d77d5a"
   }
  }
 },
 "nbformat": 4,
 "nbformat_minor": 2
}

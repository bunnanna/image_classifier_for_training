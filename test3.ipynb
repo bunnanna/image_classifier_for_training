{
 "cells": [
  {
   "cell_type": "code",
   "execution_count": 22,
   "metadata": {},
   "outputs": [],
   "source": [
    "import tensorflow as tf\n",
    "import numpy as np\n",
    "import matplotlib.pyplot as plt\n",
    "import cv2 as cv\n",
    "from matplotlib import units\n",
    "from tensorflow.keras.optimizers import Adam"
   ]
  },
  {
   "cell_type": "code",
   "execution_count": 82,
   "metadata": {},
   "outputs": [],
   "source": [
    "opt=Adam(learning_rate=0.01)\n",
    "ds = tf.keras.datasets.fashion_mnist\n",
    "(dxtrain,dytrain),(dxtest,dytest)=ds.load_data()\n",
    "dxtrain=tf.keras.utils.normalize(dxtrain,axis=1)\n",
    "dxtest=tf.keras.utils.normalize(dxtest,axis=1)\n",
    "labeldes={0:\"T-shirt/top\",1:\"Trouser\",2:\"Pullover\",3:\"Dress\",4:\"Coat\",5:\"Sandal\",6:\"Shirt\",7:\"Sneaker\",8:\"Bag\",9:\"Ankle boot\"}"
   ]
  },
  {
   "cell_type": "code",
   "execution_count": 37,
   "metadata": {},
   "outputs": [
    {
     "name": "stdout",
     "output_type": "stream",
     "text": [
      "Epoch 1/10\n",
      "1875/1875 [==============================] - 4s 2ms/step - loss: 0.5876 - accuracy: 0.7849 - val_loss: 0.4839 - val_accuracy: 0.8205\n",
      "Epoch 2/10\n",
      "1875/1875 [==============================] - 4s 2ms/step - loss: 0.4001 - accuracy: 0.8536 - val_loss: 0.4214 - val_accuracy: 0.8446\n",
      "Epoch 3/10\n",
      "1875/1875 [==============================] - 4s 2ms/step - loss: 0.3564 - accuracy: 0.8710 - val_loss: 0.3588 - val_accuracy: 0.8666\n",
      "Epoch 4/10\n",
      "1875/1875 [==============================] - 4s 2ms/step - loss: 0.3293 - accuracy: 0.8798 - val_loss: 0.3401 - val_accuracy: 0.8754\n",
      "Epoch 5/10\n",
      "1875/1875 [==============================] - 4s 2ms/step - loss: 0.3088 - accuracy: 0.8861 - val_loss: 0.3554 - val_accuracy: 0.8701\n",
      "Epoch 6/10\n",
      "1875/1875 [==============================] - 4s 2ms/step - loss: 0.2917 - accuracy: 0.8923 - val_loss: 0.3510 - val_accuracy: 0.8715\n",
      "Epoch 7/10\n",
      "1875/1875 [==============================] - 4s 2ms/step - loss: 0.2765 - accuracy: 0.8971 - val_loss: 0.3387 - val_accuracy: 0.8784\n",
      "Epoch 8/10\n",
      "1875/1875 [==============================] - 4s 2ms/step - loss: 0.2643 - accuracy: 0.9014 - val_loss: 0.3434 - val_accuracy: 0.8705\n",
      "Epoch 9/10\n",
      "1875/1875 [==============================] - 4s 2ms/step - loss: 0.2540 - accuracy: 0.9053 - val_loss: 0.3325 - val_accuracy: 0.8809\n",
      "Epoch 10/10\n",
      "1875/1875 [==============================] - 4s 2ms/step - loss: 0.2446 - accuracy: 0.9085 - val_loss: 0.3397 - val_accuracy: 0.8803\n",
      "INFO:tensorflow:Assets written to: fmnist.model\\assets\n"
     ]
    }
   ],
   "source": [
    "model2=tf.keras.models.Sequential()\n",
    "model2.add(tf.keras.layers.Flatten(input_shape=(28,28)))\n",
    "model2.add(tf.keras.layers.Dense(units=128,activation=\"relu\"))\n",
    "model2.add(tf.keras.layers.Dense(units=128,activation=\"relu\"))\n",
    "model2.add(tf.keras.layers.Dense(units=64,activation=\"sigmoid\"))\n",
    "model2.add(tf.keras.layers.Dropout(0.1))\n",
    "model2.add(tf.keras.layers.Dense(units=128,activation=\"relu\"))\n",
    "model2.add(tf.keras.layers.Dropout(0.1))\n",
    "model2.add(tf.keras.layers.Dense(units=10,activation=\"softmax\"))\n",
    "\n",
    "model2.compile(optimizer=\"Adam\",loss=\"sparse_categorical_crossentropy\",metrics=[\"accuracy\"])\n",
    "model2.fit(dxtrain,dytrain,epochs=10,validation_data=(dxtest,dytest))\n",
    "\n",
    "model2.save(\"fmnist.model\")"
   ]
  },
  {
   "cell_type": "code",
   "execution_count": 63,
   "metadata": {},
   "outputs": [
    {
     "data": {
      "text/plain": [
       "'T-shirt/top'"
      ]
     },
     "execution_count": 63,
     "metadata": {},
     "output_type": "execute_result"
    }
   ],
   "source": [
    "labeldes={0:\"T-shirt/top\",1:\"Trouser\",2:\"Pullover\",3:\"Dress\",4:\"Coat\",5:\"Sandal\",6:\"Shirt\",7:\"Sneaker\",8:\"Bag\",9:\"Ankle boot\"}"
   ]
  },
  {
   "cell_type": "code",
   "execution_count": 118,
   "metadata": {},
   "outputs": [
    {
     "name": "stdout",
     "output_type": "stream",
     "text": [
      "1/1 [==============================] - 0s 23ms/step\n",
      "index number 6152\n",
      "real Pullover\n",
      "pre Pullover\n"
     ]
    },
    {
     "data": {
      "image/png": "[encoded data removed]",
      "text/plain": [
       "<Figure size 640x480 with 1 Axes>"
      ]
     },
     "metadata": {},
     "output_type": "display_data"
    }
   ],
   "source": [
    "i=int(random()*10000)\n",
    "result=model2.predict(np.array([dxtest[i]]))\n",
    "print(\"index number\",i)\n",
    "print(\"real\",labeldes[dytest[i]])\n",
    "print(\"pre\",labeldes[np.argmax(result)])\n",
    "plt.imshow(dxtest[i],cmap=plt.cm.binary)\n",
    "plt.show()"
   ]
  },
  {
   "cell_type": "code",
   "execution_count": 81,
   "metadata": {},
   "outputs": [
    {
     "data": {
      "text/plain": [
       "array([[6.0600429e-03, 6.7052911e-06, 1.1044976e-03, 2.1248095e-04,\n",
       "        3.7358311e-04, 3.7110599e-03, 2.9994997e-03, 1.7792993e-03,\n",
       "        9.7928178e-01, 4.4710594e-03]], dtype=float32)"
      ]
     },
     "execution_count": 81,
     "metadata": {},
     "output_type": "execute_result"
    }
   ],
   "source": [
    "result"
   ]
  },
  {
   "cell_type": "code",
   "execution_count": 101,
   "metadata": {},
   "outputs": [
    {
     "data": {
      "text/plain": [
       "50918.0"
      ]
     },
     "execution_count": 101,
     "metadata": {},
     "output_type": "execute_result"
    }
   ],
   "source": [
    "from random import random\n",
    "\n",
    "\n",
    "np.floor(random()*60000)"
   ]
  }
 ],
 "metadata": {
  "kernelspec": {
   "display_name": "Python 3.9.7 ('.venv': venv)",
   "language": "python",
   "name": "python3"
  },
  "language_info": {
   "codemirror_mode": {
    "name": "ipython",
    "version": 3
   },
   "file_extension": ".py",
   "mimetype": "text/x-python",
   "name": "python",
   "nbconvert_exporter": "python",
   "pygments_lexer": "ipython3",
   "version": "3.9.7"
  },
  "orig_nbformat": 4,
  "vscode": {
   "interpreter": {
    "hash": "24148c9018077f48779bc8994ff1d8a342f466807a6e7e860df830e8cb90d7a3"
   }
  }
 },
 "nbformat": 4,
 "nbformat_minor": 2
}
